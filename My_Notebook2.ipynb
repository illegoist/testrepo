{
 "cells": [
  {
   "cell_type": "markdown",
   "id": "c5bfbc0d-4cdd-4479-a220-ac32174a690d",
   "metadata": {},
   "source": [
    "<a href=https://www.cognitiveclass.ai/?utm_medium=Exinfluencer&utm_source=Exinfluencer&utm_content=000026UJ&utm_term=10006555&utm_id=NA-SkillsNetwork-Channel-SkillsNetworkCoursesIBMDeveloperSkillsNetworkDS0105ENSkillsNetwork20083975-2021-01-01> Cognitive Class </a>"
   ]
  },
  {
   "cell_type": "code",
   "execution_count": null,
   "id": "58765ecb-c192-4d36-818a-877edeebacab",
   "metadata": {},
   "outputs": [],
   "source": [
    "This link above does not work"
   ]
  },
  {
   "cell_type": "markdown",
   "id": "0e11fecb-062e-41e6-88bc-ee66cb28a583",
   "metadata": {},
   "source": [
    "<a href=https://www.youtube.com/>YouTube</a>"
   ]
  },
  {
   "cell_type": "code",
   "execution_count": 1,
   "id": "cfe06e36-c0f5-4256-a9da-c4ac1e23c2d8",
   "metadata": {},
   "outputs": [
    {
     "data": {
      "text/plain": [
       "2"
      ]
     },
     "execution_count": 1,
     "metadata": {},
     "output_type": "execute_result"
    }
   ],
   "source": [
    "1 + 1"
   ]
  },
  {
   "cell_type": "markdown",
   "id": "a3ee03df-9e65-43c3-a02c-2f8851bba666",
   "metadata": {},
   "source": [
    "| header | header |\n",
    "| ------ | ------ |\n",
    "| cell | cell |"
   ]
  },
  {
   "cell_type": "code",
   "execution_count": 2,
   "id": "a644f2ad-1624-4ffa-9196-7950572514fe",
   "metadata": {},
   "outputs": [
    {
     "data": {
      "text/plain": [
       "101"
      ]
     },
     "execution_count": 2,
     "metadata": {},
     "output_type": "execute_result"
    }
   ],
   "source": [
    "cat = 1\n",
    "dog = 100\n",
    "cat + dog"
   ]
  },
  {
   "cell_type": "markdown",
   "id": "b2bc6a12-baad-44d1-a74c-e6f6668eef3a",
   "metadata": {},
   "source": [
    "| header | header | header |\n",
    "| ------ |------ | ------ |\n",
    "| cell | cell | cell |\n",
    "| cell | cell | cell |\n",
    "| cell | cell | cell |\n",
    "| cell | cell | cell |\n",
    "| cell | cell | cell |"
   ]
  },
  {
   "cell_type": "code",
   "execution_count": 3,
   "id": "cf365c40-3200-4cc6-9a62-91b181effcbb",
   "metadata": {},
   "outputs": [
    {
     "data": {
      "text/plain": [
       "3"
      ]
     },
     "execution_count": 3,
     "metadata": {},
     "output_type": "execute_result"
    }
   ],
   "source": [
    "one = 1\n",
    "two = 2\n",
    "one + two"
   ]
  },
  {
   "cell_type": "markdown",
   "id": "98628bbc-57d8-40f4-8d5b-0ae94536a1fc",
   "metadata": {},
   "source": [
    "## Test Notebook"
   ]
  },
  {
   "cell_type": "code",
   "execution_count": 3,
   "id": "6181e615-31f4-4f1e-96a4-3ab5b8b12e08",
   "metadata": {},
   "outputs": [
    {
     "name": "stdout",
     "output_type": "stream",
     "text": [
      "Hello, World!\n"
     ]
    }
   ],
   "source": [
    "print (\"Hello, World!\")"
   ]
  }
 ],
 "metadata": {
  "kernelspec": {
   "display_name": "Python 3",
   "language": "python",
   "name": "python3"
  },
  "language_info": {
   "codemirror_mode": {
    "name": "ipython",
    "version": 3
   },
   "file_extension": ".py",
   "mimetype": "text/x-python",
   "name": "python",
   "nbconvert_exporter": "python",
   "pygments_lexer": "ipython3",
   "version": "3.7.8"
  }
 },
 "nbformat": 4,
 "nbformat_minor": 5
}
